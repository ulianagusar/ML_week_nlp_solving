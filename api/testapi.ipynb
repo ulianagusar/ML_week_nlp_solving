{
 "cells": [
  {
   "cell_type": "code",
   "execution_count": 4,
   "metadata": {},
   "outputs": [
    {
     "name": "stdout",
     "output_type": "stream",
     "text": [
      "{'unique_ids': [1, 2]}\n"
     ]
    }
   ],
   "source": [
    "import requests\n",
    "\n",
    "url = \"http://127.0.0.1:5000/remove_duplicates?day_range=1\"\n",
    "\n",
    "data = {\n",
    "    \"Message\": [\"Привіт\", \"Як справи?\", \"Привіт\"],\n",
    "    \"MessageDate\": [\"2029-01-28 19:28:10.123\", \"2029-01-29 10:00:00.000\", \"2029-01-28 19:28:10.123\"],\n",
    "    \"TelegramPostInfoID\": [1, 2, 3]\n",
    "}\n",
    "\n",
    "response = requests.post(url, json=data)\n",
    "print(response.json())\n",
    "\n"
   ]
  },
  {
   "cell_type": "code",
   "execution_count": 33,
   "metadata": {},
   "outputs": [
    {
     "name": "stdout",
     "output_type": "stream",
     "text": [
      "200\n",
      "{'message': 'Повідомлення успішно отримані та збережені'}\n"
     ]
    }
   ],
   "source": [
    "import requests\n",
    "import sqlite3\n",
    "url = \"http://127.0.0.1:5001/api/fetch_posts\"  \n",
    "payload = {\n",
    "    \"channel\": \"news_channel\",\n",
    "    \"start_date\": \"2024-02-01\",\n",
    "    \"end_date\": \"2024-02-05\",\n",
    "    \"model\": \"Bert\"  \n",
    "}\n",
    "\n",
    "headers = {\"Content-Type\": \"application/json\"}\n",
    "\n",
    "response = requests.post(url, json=payload, headers=headers)\n",
    "\n",
    "print(response.status_code)\n",
    "print(response.json())  \n"
   ]
  },
  {
   "cell_type": "code",
   "execution_count": 4,
   "metadata": {},
   "outputs": [
    {
     "name": "stdout",
     "output_type": "stream",
     "text": [
      "/Users/ulanagusar/Desktop/ML_week/ML_week_nlp_solving/backend/database/database.db\n"
     ]
    }
   ],
   "source": [
    "DB_PATH = \"/Users/ulanagusar/Desktop/ML_week/ML_week_nlp_solving/backend/database/database.db\"\n",
    "print(DB_PATH)\n",
    "import sqlite3\n",
    "def get_db_connection():\n",
    "\n",
    "    conn = sqlite3.connect(DB_PATH)  \n",
    "    conn.row_factory = sqlite3.Row \n",
    "    return conn\n",
    "\n",
    "\n",
    "def fetch_table_contents(table_name):\n",
    "\n",
    "    try:\n",
    "        conn = get_db_connection()\n",
    "        cursor = conn.cursor()\n",
    "\n",
    "\n",
    "        cursor.execute(f\"SELECT * FROM {table_name}\")\n",
    "        rows = cursor.fetchall()\n",
    "\n",
    "        conn.close()\n",
    "\n",
    "        if rows:\n",
    "\n",
    "            for row in rows:\n",
    "                print(dict(row)) \n",
    "        else:\n",
    "            print(f\" {table_name} empty.\")\n",
    "    \n",
    "    except Exception as e:\n",
    "        print(f\"{e}\")\n",
    "def show_all_tables():\n",
    "    fetch_table_contents(\"TelegramPostInfo\")\n",
    "\n"
   ]
  },
  {
   "cell_type": "code",
   "execution_count": 5,
   "metadata": {},
   "outputs": [
    {
     "name": "stdout",
     "output_type": "stream",
     "text": [
      "\n",
      "📌 Вміст таблиці TelegramPostInfo:\n",
      "{'MessageID': 5, 'Message': 'Росія планує наступ завтра', 'Channel': 'c1', 'MessageDate': '2029-01-28 19:28:10.123', 'Name': 'name', 'Location': 'location', 'Weapons': 'weapons', 'Observation': 'o', 'Discussion': 'd', 'Conclusion': 's', 'Recommendation': 'r'}\n",
      "{'MessageID': 6, 'Message': 'Бои под Авдєєвкой продолжаются , скоро откроют новую продвижную дорогу , по которой пройдет наш пихотний батальйон', 'Channel': 'c2', 'MessageDate': '2029-01-29 10:00:00.000', 'Name': 'name', 'Location': 'location', 'Weapons': 'weapons', 'Observation': 'o', 'Discussion': 'd', 'Conclusion': 's', 'Recommendation': 'r'}\n",
      "{'MessageID': 7, 'Message': 'Получили новое вооружение - гранати', 'Channel': 'c3', 'MessageDate': '2029-01-28 19:28:10.123', 'Name': 'name', 'Location': 'location', 'Weapons': 'weapons', 'Observation': 'o', 'Discussion': 'd', 'Conclusion': 's', 'Recommendation': 'r'}\n"
     ]
    }
   ],
   "source": [
    "show_all_tables()"
   ]
  },
  {
   "cell_type": "code",
   "execution_count": 3,
   "metadata": {},
   "outputs": [
    {
     "name": "stdout",
     "output_type": "stream",
     "text": [
      "✅ Отримані повідомлення:\n",
      "{'Channel': 'c1', 'Message': 'Росія планує наступ завтра', 'MessageDate': '2029-01-28 19:28:10.123', 'TelegramPostInfoID': 5}\n",
      "{'Channel': 'c2', 'Message': 'Бои под Авдєєвкой продолжаются , скоро откроют новую продвижную дорогу , по которой пройдет наш пихотний батальйон', 'MessageDate': '2029-01-29 10:00:00.000', 'TelegramPostInfoID': 6}\n",
      "{'Channel': 'c3', 'Message': 'Получили новое вооружение - гранати', 'MessageDate': '2029-01-28 19:28:10.123', 'TelegramPostInfoID': 7}\n"
     ]
    }
   ],
   "source": [
    "import requests\n",
    "import sqlite3\n",
    "\n",
    "API_URL = \"http://127.0.0.1:5001/api/posts\"  \n",
    "\n",
    "def test_get_posts():\n",
    "\n",
    "    try:\n",
    "        response = requests.get(API_URL)  \n",
    "        if response.status_code == 200:\n",
    "            posts = response.json()\n",
    "\n",
    "            for post in posts:\n",
    "                print(post)\n",
    "        else:\n",
    "            print(f\" {response.status_code}, response: {response.text}\")\n",
    "    except requests.exceptions.RequestException as e:\n",
    "        print(f\" {e}\")\n",
    "test_get_posts()"
   ]
  }
 ],
 "metadata": {
  "kernelspec": {
   "display_name": "Python 3",
   "language": "python",
   "name": "python3"
  },
  "language_info": {
   "codemirror_mode": {
    "name": "ipython",
    "version": 3
   },
   "file_extension": ".py",
   "mimetype": "text/x-python",
   "name": "python",
   "nbconvert_exporter": "python",
   "pygments_lexer": "ipython3",
   "version": "3.10.16"
  }
 },
 "nbformat": 4,
 "nbformat_minor": 2
}

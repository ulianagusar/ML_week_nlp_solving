{
 "cells": [
  {
   "cell_type": "code",
   "execution_count": 1,
   "metadata": {},
   "outputs": [
    {
     "name": "stdout",
     "output_type": "stream",
     "text": [
      "Requirement already satisfied: sentence-transformers in ./.conda/lib/python3.10/site-packages (3.4.1)\n",
      "Requirement already satisfied: transformers<5.0.0,>=4.41.0 in ./.conda/lib/python3.10/site-packages (from sentence-transformers) (4.48.1)\n",
      "Requirement already satisfied: tqdm in ./.conda/lib/python3.10/site-packages (from sentence-transformers) (4.67.1)\n",
      "Requirement already satisfied: torch>=1.11.0 in ./.conda/lib/python3.10/site-packages (from sentence-transformers) (2.6.0)\n",
      "Requirement already satisfied: scikit-learn in ./.conda/lib/python3.10/site-packages (from sentence-transformers) (1.6.1)\n",
      "Requirement already satisfied: scipy in ./.conda/lib/python3.10/site-packages (from sentence-transformers) (1.15.1)\n",
      "Requirement already satisfied: huggingface-hub>=0.20.0 in ./.conda/lib/python3.10/site-packages (from sentence-transformers) (0.28.0)\n",
      "Requirement already satisfied: Pillow in ./.conda/lib/python3.10/site-packages (from sentence-transformers) (11.1.0)\n",
      "Requirement already satisfied: filelock in ./.conda/lib/python3.10/site-packages (from huggingface-hub>=0.20.0->sentence-transformers) (3.17.0)\n",
      "Requirement already satisfied: fsspec>=2023.5.0 in ./.conda/lib/python3.10/site-packages (from huggingface-hub>=0.20.0->sentence-transformers) (2024.12.0)\n",
      "Requirement already satisfied: packaging>=20.9 in ./.conda/lib/python3.10/site-packages (from huggingface-hub>=0.20.0->sentence-transformers) (24.2)\n",
      "Requirement already satisfied: pyyaml>=5.1 in ./.conda/lib/python3.10/site-packages (from huggingface-hub>=0.20.0->sentence-transformers) (6.0.2)\n",
      "Requirement already satisfied: requests in ./.conda/lib/python3.10/site-packages (from huggingface-hub>=0.20.0->sentence-transformers) (2.32.3)\n",
      "Requirement already satisfied: typing-extensions>=3.7.4.3 in ./.conda/lib/python3.10/site-packages (from huggingface-hub>=0.20.0->sentence-transformers) (4.12.2)\n",
      "Requirement already satisfied: networkx in ./.conda/lib/python3.10/site-packages (from torch>=1.11.0->sentence-transformers) (3.4.2)\n",
      "Requirement already satisfied: jinja2 in ./.conda/lib/python3.10/site-packages (from torch>=1.11.0->sentence-transformers) (3.1.5)\n",
      "Requirement already satisfied: sympy==1.13.1 in ./.conda/lib/python3.10/site-packages (from torch>=1.11.0->sentence-transformers) (1.13.1)\n",
      "Requirement already satisfied: mpmath<1.4,>=1.1.0 in ./.conda/lib/python3.10/site-packages (from sympy==1.13.1->torch>=1.11.0->sentence-transformers) (1.3.0)\n",
      "Requirement already satisfied: numpy>=1.17 in ./.conda/lib/python3.10/site-packages (from transformers<5.0.0,>=4.41.0->sentence-transformers) (2.2.2)\n",
      "Requirement already satisfied: regex!=2019.12.17 in ./.conda/lib/python3.10/site-packages (from transformers<5.0.0,>=4.41.0->sentence-transformers) (2024.11.6)\n",
      "Requirement already satisfied: tokenizers<0.22,>=0.21 in ./.conda/lib/python3.10/site-packages (from transformers<5.0.0,>=4.41.0->sentence-transformers) (0.21.0)\n",
      "Requirement already satisfied: safetensors>=0.4.1 in ./.conda/lib/python3.10/site-packages (from transformers<5.0.0,>=4.41.0->sentence-transformers) (0.5.2)\n",
      "Requirement already satisfied: joblib>=1.2.0 in ./.conda/lib/python3.10/site-packages (from scikit-learn->sentence-transformers) (1.4.2)\n",
      "Requirement already satisfied: threadpoolctl>=3.1.0 in ./.conda/lib/python3.10/site-packages (from scikit-learn->sentence-transformers) (3.5.0)\n",
      "Requirement already satisfied: MarkupSafe>=2.0 in ./.conda/lib/python3.10/site-packages (from jinja2->torch>=1.11.0->sentence-transformers) (3.0.2)\n",
      "Requirement already satisfied: charset-normalizer<4,>=2 in ./.conda/lib/python3.10/site-packages (from requests->huggingface-hub>=0.20.0->sentence-transformers) (3.4.1)\n",
      "Requirement already satisfied: idna<4,>=2.5 in ./.conda/lib/python3.10/site-packages (from requests->huggingface-hub>=0.20.0->sentence-transformers) (3.10)\n",
      "Requirement already satisfied: urllib3<3,>=1.21.1 in ./.conda/lib/python3.10/site-packages (from requests->huggingface-hub>=0.20.0->sentence-transformers) (2.3.0)\n",
      "Requirement already satisfied: certifi>=2017.4.17 in ./.conda/lib/python3.10/site-packages (from requests->huggingface-hub>=0.20.0->sentence-transformers) (2024.12.14)\n",
      "Requirement already satisfied: faiss-cpu in ./.conda/lib/python3.10/site-packages (1.9.0.post1)\n",
      "Requirement already satisfied: numpy<3.0,>=1.25.0 in ./.conda/lib/python3.10/site-packages (from faiss-cpu) (2.2.2)\n",
      "Requirement already satisfied: packaging in ./.conda/lib/python3.10/site-packages (from faiss-cpu) (24.2)\n"
     ]
    }
   ],
   "source": [
    "!pip install sentence-transformers\n",
    "!pip install faiss-cpu"
   ]
  },
  {
   "cell_type": "code",
   "execution_count": 2,
   "metadata": {},
   "outputs": [
    {
     "name": "stderr",
     "output_type": "stream",
     "text": [
      "/Users/ulanagusar/Desktop/ML_week/.conda/lib/python3.10/site-packages/tqdm/auto.py:21: TqdmWarning: IProgress not found. Please update jupyter and ipywidgets. See https://ipywidgets.readthedocs.io/en/stable/user_install.html\n",
      "  from .autonotebook import tqdm as notebook_tqdm\n"
     ]
    }
   ],
   "source": [
    "from sentence_transformers import SentenceTransformer\n",
    "import numpy as np\n",
    "from sentence_transformers import SentenceTransformer\n",
    "import numpy as np\n",
    "import faiss\n",
    "import pickle\n",
    "import os"
   ]
  },
  {
   "cell_type": "code",
   "execution_count": 6,
   "metadata": {},
   "outputs": [
    {
     "name": "stdout",
     "output_type": "stream",
     "text": [
      "Дані завантажено успішно!\n"
     ]
    }
   ],
   "source": [
    "\n",
    "\n",
    "\n",
    "class MessageManager:\n",
    "    def __init__(self, model_name='paraphrase-multilingual-MiniLM-L12-v2', index_path='faiss.index', data_path='data.pkl'):\n",
    "        self.model = SentenceTransformer(model_name)\n",
    "        self.messages = []\n",
    "        self.embeddings = np.empty((0, self.model.get_sentence_embedding_dimension()), dtype='float32')\n",
    "        self.dimension = self.model.get_sentence_embedding_dimension()\n",
    "        self.index_path = index_path\n",
    "        self.data_path = data_path\n",
    "        self.index = faiss.IndexFlatL2(self.dimension)\n",
    "        self.load_data()\n",
    "    \n",
    "    def add_new_message(self, new_message):\n",
    "\n",
    "        new_embedding = self.model.encode([new_message]).astype('float32')\n",
    "        self.index.add(new_embedding)\n",
    "        self.messages.append(new_message)\n",
    "        self.embeddings = np.vstack([self.embeddings, new_embedding])\n",
    "       \n",
    "    \n",
    "    def is_similar(self, new_message, threshold=0.8):\n",
    "        if len(self.messages) == 0:\n",
    "            return False\n",
    "        new_embedding = self.model.encode([new_message]).astype('float32')\n",
    "        \n",
    "        # Пошук найближчого сусіда у FAISS\n",
    "        D, I = self.index.search(new_embedding, k=1)\n",
    "        \n",
    "        existing_embedding = self.embeddings[I[0][0]]\n",
    "        similarity = np.dot(new_embedding, existing_embedding) / (np.linalg.norm(new_embedding) * np.linalg.norm(existing_embedding))\n",
    "\n",
    "        return similarity > threshold\n",
    "    \n",
    "    def save_data(self):\n",
    "        faiss.write_index(self.index, self.index_path)\n",
    "        with open(self.data_path, 'wb') as f:\n",
    "            pickle.dump({'messages': self.messages, 'embeddings': self.embeddings}, f)\n",
    "       \n",
    "    \n",
    "    def load_data(self):\n",
    "        if os.path.exists(self.data_path) and os.path.exists(self.index_path):\n",
    "            with open(self.data_path, 'rb') as f:\n",
    "                data = pickle.load(f)\n",
    "                self.messages = data['messages']\n",
    "                self.embeddings = data['embeddings']\n",
    "            self.index = faiss.read_index(self.index_path)\n",
    "            print(\"Дані завантажено успішно!\")\n",
    "        else:\n",
    "            print(\"Файли даних не знайдено. Починаємо з порожньої бази.\")\n",
    "    \n",
    "    def shutdown(self):\n",
    "        self.save_data()\n",
    "\n",
    "\n",
    "manager = MessageManager()\n",
    "\n",
    "def process_message(new_msg, threshold=0.8):\n",
    "    similar = manager.is_similar(new_msg, threshold)\n",
    "    if not (similar):\n",
    "         manager.add_new_message(new_msg)\n",
    "    return similar\n",
    " \n",
    "\n",
    "\n"
   ]
  },
  {
   "cell_type": "code",
   "execution_count": 7,
   "metadata": {},
   "outputs": [],
   "source": [
    "test_messages = [\n",
    "    \"стіл\",\n",
    "    \"Ще одне нове повідомлення\",\n",
    "    \"Повідомлення про запуск нового продукту\",\n",
    "    \"Схоже повідомлення\"\n",
    "]\n",
    "res_mes = []\n",
    "\n",
    "\n",
    "for msg in test_messages:\n",
    "    similar = process_message(msg)\n",
    "   # print(similar)\n",
    "    if similar == False :\n",
    "        res_mes.append(msg)\n",
    "        \n",
    "\n",
    "\n",
    "\n",
    "\n",
    "manager.shutdown()"
   ]
  },
  {
   "cell_type": "code",
   "execution_count": 8,
   "metadata": {},
   "outputs": [
    {
     "data": {
      "text/plain": [
       "[]"
      ]
     },
     "execution_count": 8,
     "metadata": {},
     "output_type": "execute_result"
    }
   ],
   "source": [
    "res_mes"
   ]
  }
 ],
 "metadata": {
  "kernelspec": {
   "display_name": "Python 3",
   "language": "python",
   "name": "python3"
  },
  "language_info": {
   "codemirror_mode": {
    "name": "ipython",
    "version": 3
   },
   "file_extension": ".py",
   "mimetype": "text/x-python",
   "name": "python",
   "nbconvert_exporter": "python",
   "pygments_lexer": "ipython3",
   "version": "3.10.16"
  }
 },
 "nbformat": 4,
 "nbformat_minor": 2
}

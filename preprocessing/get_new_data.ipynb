{
 "cells": [
  {
   "cell_type": "code",
   "execution_count": null,
   "metadata": {},
   "outputs": [],
   "source": [
    "!pip install sentence-transformers\n",
    "!pip install faiss-cpu"
   ]
  },
  {
   "cell_type": "code",
   "execution_count": 142,
   "metadata": {},
   "outputs": [],
   "source": [
    "import os\n",
    "import pickle\n",
    "import faiss\n",
    "import numpy as np\n",
    "import pandas as pd\n",
    "from sentence_transformers import SentenceTransformer\n",
    "from datetime import datetime, timedelta\n",
    "\n",
    "class MessageManager:\n",
    "    def __init__(self, model_name='paraphrase-multilingual-MiniLM-L12-v2', index_path='faiss.index', data_path='data.pkl'):\n",
    "        self.model = SentenceTransformer(model_name)\n",
    "        self.messages = []\n",
    "        self.timestamps = [] \n",
    "        self.embeddings = np.empty((0, self.model.get_sentence_embedding_dimension()), dtype='float32')\n",
    "        self.dimension = self.model.get_sentence_embedding_dimension()\n",
    "        self.index_path = index_path\n",
    "        self.data_path = data_path\n",
    "        self.index = faiss.IndexFlatL2(self.dimension)\n",
    "        self.load_data()\n",
    "    \n",
    "    def add_new_message(self, new_message , current_time):\n",
    "        new_embedding = self.model.encode([new_message]).astype('float32')\n",
    "        self.index.add(new_embedding)\n",
    "        self.messages.append(new_message)\n",
    "        self.timestamps.append(current_time)\n",
    "        self.embeddings = np.vstack([self.embeddings, new_embedding])\n",
    "    \n",
    "    def is_similar(self, new_message, threshold=0.8):\n",
    "        if len(self.messages) == 0:\n",
    "            return False, None\n",
    "\n",
    "        new_embedding = self.model.encode([new_message]).astype('float32')\n",
    "        D, I = self.index.search(new_embedding, k=1)\n",
    "        nearest_index = I[0][0]\n",
    "\n",
    "        if nearest_index == -1:\n",
    "            return None, None\n",
    "        # get the date and content of the nearest message\n",
    "        nearest_message = self.messages[nearest_index]\n",
    "        nearest_timestamp = self.timestamps[nearest_index]  \n",
    "\n",
    "        existing_embedding = self.embeddings[nearest_index]\n",
    "        similarity = np.dot(new_embedding, existing_embedding) / (np.linalg.norm(new_embedding) * np.linalg.norm(existing_embedding))\n",
    "        similar = similarity > threshold\n",
    "\n",
    "        return (nearest_message, nearest_timestamp), similar[0]\n",
    "    \n",
    "    def save_data(self):\n",
    "        faiss.write_index(self.index, self.index_path)\n",
    "        with open(self.data_path, 'wb') as f:\n",
    "            pickle.dump({'messages': self.messages, 'timestamps': self.timestamps, 'embeddings': self.embeddings}, f)\n",
    "    \n",
    "    def load_data(self):\n",
    "        if os.path.exists(self.data_path) and os.path.exists(self.index_path):\n",
    "            with open(self.data_path, 'rb') as f:\n",
    "                data = pickle.load(f)\n",
    "                self.messages = data.get('messages', [])\n",
    "                self.timestamps = data.get('timestamps', [])  \n",
    "                self.embeddings = data.get('embeddings', np.empty((0, self.dimension), dtype='float32'))\n",
    "            self.index = faiss.read_index(self.index_path)\n",
    "\n",
    "    def shutdown(self):\n",
    "        self.save_data()\n",
    "\n",
    "\n",
    "manager = MessageManager()\n",
    "manager.shutdown()\n",
    "\n",
    " \n",
    "\n",
    "\n"
   ]
  },
  {
   "cell_type": "code",
   "execution_count": 143,
   "metadata": {},
   "outputs": [],
   "source": [
    "\n",
    "day_range = 1\n",
    "df_current = pd.read_csv(\"/Users/ulanagusar/Desktop/ML_week/table1.csv\",delimiter=\";\")\n",
    "df_current = pd.read_csv(\"/Users/ulanagusar/Desktop/ML_week/current.csv\")\n",
    "\n",
    "\n",
    "def rm_dublicates(df_current ,day_range = 1):\n",
    "\n",
    "     test_messages = df_current['Message'].to_list()\n",
    "     test_times = df_current['MessageDate'].to_list()\n",
    "     test_ids = df_current['TelegramPostInfoID'].to_list()\n",
    "     res_ids = []\n",
    "\n",
    "     for i in range(len(test_messages)):\n",
    "          new_msg = test_messages[i]\n",
    "          new_timestamp = test_times[i]\n",
    "          new_id= test_ids[i]\n",
    "\n",
    "          result, is_similar = manager.is_similar(new_msg)\n",
    "          if result == None:\n",
    "               print(new_msg)\n",
    "               print(\"the nearest neighbor is not found - write \")\n",
    "               #the nearest neighbor is not found - write \n",
    "               manager.add_new_message(new_msg , new_timestamp)\n",
    "               res_ids.append(new_id)\n",
    "          elif result == False :\n",
    "               print(new_msg)\n",
    "               print(\"the database is empty - write\")\n",
    "               manager.add_new_message(new_msg , new_timestamp)\n",
    "               res_ids.append(new_id)\n",
    "               # the database is empty - write\n",
    "          elif is_similar == False :\n",
    "               print(new_msg)\n",
    "               print(\"no similar  - write \")\n",
    "               manager.add_new_message(new_msg , new_timestamp)\n",
    "               res_ids.append(new_id)\n",
    "               # no similar  - write \n",
    "          else: \n",
    "               print(new_msg)\n",
    "               print(\"There are similar ones - check the time\")\n",
    "               # There are similar ones - check the time\n",
    "               nearest_message, nearest_timestamp = result\n",
    "\n",
    "               nearest_dt = datetime.strptime(nearest_timestamp, \"%Y-%m-%d %H:%M:%S.%f\")\n",
    "               #end_dt time of the current message\n",
    "               end_dt = datetime.strptime(new_timestamp, \"%Y-%m-%d %H:%M:%S.%f\")\n",
    "               # start_dt the day_range before the current day\n",
    "               start_dt = end_dt - timedelta(days=day_range)\n",
    "               if not (start_dt <= nearest_dt <= end_dt) :\n",
    "                    # there are no similar ones in the specified time range - write \n",
    "                    print(\"there are no similar ones in the specified time range - write \")\n",
    "                    manager.add_new_message(new_msg , new_timestamp)\n",
    "                    res_ids.append(new_id)\n",
    "               else:\n",
    "                    print(\"similar record in the specified time range - don't write\")\n",
    "     return res_ids\n",
    "\n"
   ]
  },
  {
   "cell_type": "code",
   "execution_count": 144,
   "metadata": {},
   "outputs": [
    {
     "name": "stdout",
     "output_type": "stream",
     "text": [
      "Мы с этим будем жить в ближайшие годы. Путин предупредил, что экономика России будет испытывать дефицит кадров и объяснил, как с этим бороться.\n",
      "the database is empty - write\n",
      "Проиранские формирования в Ираке заявили, что атаковали ракетами базу американских войск Айн аль-Асад в провинции Анбар, Ирак.\n",
      "no similar  - write \n",
      "Президент США Джо Байден внезапно прервал свой отдых и возвращается в Белый дом для консультаций с командой по безопасности из-за событий на Ближнем Востоке\n",
      "no similar  - write \n",
      "Президент прервал свой отдых и возвращается в Белый дом для консультаций с командой по безопасности\n",
      "There are similar ones - check the time\n",
      "similar record in the specified time range - don't write\n",
      "Владимир Путин вместе с президентами из других стран возложил цветы к Могиле Неизвестного Солдата \n",
      "no similar  - write \n",
      " Путин возложил цветы к Могиле Неизвестного Солдата \n",
      "There are similar ones - check the time\n",
      "there are no similar ones in the specified time range - write \n",
      " я прийшла вас порадувати \n",
      "no similar  - write \n",
      " мене звати уляна\n",
      "no similar  - write \n"
     ]
    }
   ],
   "source": [
    "res_ids = rm_dublicates(df_current)"
   ]
  },
  {
   "cell_type": "code",
   "execution_count": 145,
   "metadata": {},
   "outputs": [
    {
     "data": {
      "text/plain": [
       "[1, 3, 5, 7, 8, 9, 10]"
      ]
     },
     "execution_count": 145,
     "metadata": {},
     "output_type": "execute_result"
    }
   ],
   "source": [
    "res_ids"
   ]
  }
 ],
 "metadata": {
  "kernelspec": {
   "display_name": "Python 3",
   "language": "python",
   "name": "python3"
  },
  "language_info": {
   "codemirror_mode": {
    "name": "ipython",
    "version": 3
   },
   "file_extension": ".py",
   "mimetype": "text/x-python",
   "name": "python",
   "nbconvert_exporter": "python",
   "pygments_lexer": "ipython3",
   "version": "3.10.16"
  }
 },
 "nbformat": 4,
 "nbformat_minor": 2
}

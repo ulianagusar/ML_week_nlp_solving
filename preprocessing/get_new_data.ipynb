{
 "cells": [
  {
   "cell_type": "code",
   "execution_count": null,
   "metadata": {},
   "outputs": [],
   "source": [
    "!pip install sentence-transformers\n",
    "!pip install faiss-cpu\n"
   ]
  },
  {
   "cell_type": "code",
   "execution_count": 19,
   "metadata": {},
   "outputs": [],
   "source": [
    "from sentence_transformers import SentenceTransformer\n",
    "import numpy as np\n",
    "from sentence_transformers import SentenceTransformer\n",
    "import numpy as np\n",
    "import faiss\n",
    "import pickle\n",
    "import os\n",
    "import pandas as pd"
   ]
  },
  {
   "cell_type": "code",
   "execution_count": 20,
   "metadata": {},
   "outputs": [
    {
     "name": "stdout",
     "output_type": "stream",
     "text": [
      "Файли даних не знайдено. Починаємо з порожньої бази.\n"
     ]
    }
   ],
   "source": [
    "\n",
    "\n",
    "\n",
    "class MessageManager:\n",
    "    def __init__(self, model_name='paraphrase-multilingual-MiniLM-L12-v2', index_path='faiss.index', data_path='data.pkl'):\n",
    "        self.model = SentenceTransformer(model_name)\n",
    "        self.messages = []\n",
    "        self.embeddings = np.empty((0, self.model.get_sentence_embedding_dimension()), dtype='float32')\n",
    "        self.dimension = self.model.get_sentence_embedding_dimension()\n",
    "        self.index_path = index_path\n",
    "        self.data_path = data_path\n",
    "        self.index = faiss.IndexFlatL2(self.dimension)\n",
    "        self.load_data()\n",
    "    \n",
    "    def add_new_message(self, new_message):\n",
    "\n",
    "        new_embedding = self.model.encode([new_message]).astype('float32')\n",
    "        self.index.add(new_embedding)\n",
    "        self.messages.append(new_message)\n",
    "        self.embeddings = np.vstack([self.embeddings, new_embedding])\n",
    "       \n",
    "    \n",
    "    def is_similar(self, new_message, threshold=0.8):\n",
    "\n",
    "        if len(self.messages) == 0:\n",
    "            return False , False\n",
    "        new_embedding = self.model.encode([new_message]).astype('float32')\n",
    "        \n",
    "        D, I = self.index.search(new_embedding, k=1)\n",
    "        nearest_index = I[0][0]\n",
    "        nearest_message = self.messages[nearest_index]\n",
    "\n",
    "        existing_embedding = self.embeddings[I[0][0]]\n",
    "        similarity = np.dot(new_embedding, existing_embedding) / (np.linalg.norm(new_embedding) * np.linalg.norm(existing_embedding))\n",
    "\n",
    "        similar = similarity > threshold\n",
    "\n",
    "        return nearest_message , similar[0]\n",
    "    \n",
    "    def save_data(self):\n",
    "        faiss.write_index(self.index, self.index_path)\n",
    "        with open(self.data_path, 'wb') as f:\n",
    "            pickle.dump({'messages': self.messages, 'embeddings': self.embeddings}, f)\n",
    "       \n",
    "    \n",
    "    def load_data(self):\n",
    "        if os.path.exists(self.data_path) and os.path.exists(self.index_path):\n",
    "            with open(self.data_path, 'rb') as f:\n",
    "                data = pickle.load(f)\n",
    "                self.messages = data['messages']\n",
    "                self.embeddings = data['embeddings']\n",
    "            self.index = faiss.read_index(self.index_path)\n",
    "\n",
    "    \n",
    "    def shutdown(self):\n",
    "        self.save_data()\n",
    "\n",
    "\n",
    "manager = MessageManager()\n",
    "manager.shutdown()\n",
    "\n"
   ]
  },
  {
   "cell_type": "code",
   "execution_count": 21,
   "metadata": {},
   "outputs": [],
   "source": [
    "def check_message_in_date_range(df, start_date, end_date, similar_message):\n",
    "    df[\"date\"] = pd.to_datetime(df[\"date\"])\n",
    "    start_date = pd.to_datetime(start_date)\n",
    "    end_date = pd.to_datetime(end_date)\n",
    "    filtered_df = df[(df[\"date\"] >= start_date) & (df[\"date\"] <= end_date)]\n",
    "    #print(filtered_df)\n",
    "    return any(filtered_df[\"message\"].str.contains(similar_message, case=False, na=False))"
   ]
  },
  {
   "cell_type": "code",
   "execution_count": 22,
   "metadata": {},
   "outputs": [],
   "source": [
    "df_current = pd.read_csv(\"/Users/ulanagusar/Desktop/ML_week/table1.csv\",delimiter=\";\")"
   ]
  },
  {
   "cell_type": "code",
   "execution_count": 23,
   "metadata": {},
   "outputs": [
    {
     "data": {
      "text/html": [
       "<div>\n",
       "<style scoped>\n",
       "    .dataframe tbody tr th:only-of-type {\n",
       "        vertical-align: middle;\n",
       "    }\n",
       "\n",
       "    .dataframe tbody tr th {\n",
       "        vertical-align: top;\n",
       "    }\n",
       "\n",
       "    .dataframe thead th {\n",
       "        text-align: right;\n",
       "    }\n",
       "</style>\n",
       "<table border=\"1\" class=\"dataframe\">\n",
       "  <thead>\n",
       "    <tr style=\"text-align: right;\">\n",
       "      <th></th>\n",
       "      <th>TelegramPostInfoID</th>\n",
       "      <th>Message</th>\n",
       "      <th>Channel</th>\n",
       "      <th>MessageDate</th>\n",
       "    </tr>\n",
       "  </thead>\n",
       "  <tbody>\n",
       "    <tr>\n",
       "      <th>0</th>\n",
       "      <td>10</td>\n",
       "      <td>США цього тижня перевезли близько 90 ракет до ...</td>\n",
       "      <td>STERNENKO</td>\n",
       "      <td>2025-01-29 13:02:52.000</td>\n",
       "    </tr>\n",
       "    <tr>\n",
       "      <th>1</th>\n",
       "      <td>11</td>\n",
       "      <td>У аеропорту Мурманська запровадили план «ковьо...</td>\n",
       "      <td>STERNENKO</td>\n",
       "      <td>2025-01-29 10:18:57.000</td>\n",
       "    </tr>\n",
       "    <tr>\n",
       "      <th>2</th>\n",
       "      <td>12</td>\n",
       "      <td>Миколаїв під атакою балістики.</td>\n",
       "      <td>STERNENKO</td>\n",
       "      <td>2025-01-28 20:02:51.000</td>\n",
       "    </tr>\n",
       "    <tr>\n",
       "      <th>3</th>\n",
       "      <td>13</td>\n",
       "      <td>росія втратила понад 20 000 одиниць військової...</td>\n",
       "      <td>STERNENKO</td>\n",
       "      <td>2025-01-28 19:28:10.000</td>\n",
       "    </tr>\n",
       "  </tbody>\n",
       "</table>\n",
       "</div>"
      ],
      "text/plain": [
       "   TelegramPostInfoID                                            Message  \\\n",
       "0                  10  США цього тижня перевезли близько 90 ракет до ...   \n",
       "1                  11  У аеропорту Мурманська запровадили план «ковьо...   \n",
       "2                  12                     Миколаїв під атакою балістики.   \n",
       "3                  13  росія втратила понад 20 000 одиниць військової...   \n",
       "\n",
       "     Channel              MessageDate  \n",
       "0  STERNENKO  2025-01-29 13:02:52.000  \n",
       "1  STERNENKO  2025-01-29 10:18:57.000  \n",
       "2  STERNENKO  2025-01-28 20:02:51.000  \n",
       "3  STERNENKO  2025-01-28 19:28:10.000  "
      ]
     },
     "execution_count": 23,
     "metadata": {},
     "output_type": "execute_result"
    }
   ],
   "source": [
    "df_current"
   ]
  },
  {
   "cell_type": "code",
   "execution_count": 25,
   "metadata": {},
   "outputs": [],
   "source": [
    "file_path_stable = \"/Users/ulanagusar/Desktop/ML_week/messages_data.csv\"  \n",
    "# df_current = pd.read_csv(\"/Users/ulanagusar/Desktop/ML_week/table1.csv\")\n",
    "\n",
    "def rm_dublicates(df_current , file_path_stable):\n",
    "        \n",
    "        manager = MessageManager()\n",
    "        manager.shutdown()\n",
    "        messages = df_current[\"Message\"].to_list()\n",
    "        ids = df_current[\"TelegramPostInfoID\"].to_list()\n",
    "        dates = df_current[\"MessageDate\"].to_list()\n",
    "        df_stable = pd.read_csv(file_path_stable )\n",
    "\n",
    "        start_date = \"2024-02-20\"\n",
    "        end_date = \"2026-03-08\"\n",
    "        res_id = []\n",
    "        threshold = 0.8\n",
    "        for i in range(len(messages)):\n",
    "            message = messages[i]\n",
    "            id = ids[i]\n",
    "            date = dates[i]\n",
    "            nearest_message , similar = manager.is_similar(message, threshold)\n",
    "            if similar == False :\n",
    "                manager.add_new_message(message)\n",
    "                new_row = [(date, message)]\n",
    "                df_new = pd.DataFrame(new_row, columns=[\"date\", \"message\"]) \n",
    "                df_new.to_csv(file_path_stable, mode='a', index=False, header=False, encoding=\"utf-8\")\n",
    "                df_stable = pd.read_csv(file_path_stable)\n",
    "                res_id.append(id)\n",
    "            else:\n",
    "                message_in_date_range = check_message_in_date_range(df_stable, start_date, end_date, nearest_message)\n",
    "                if message_in_date_range == False :\n",
    "                    manager.add_new_message(message)\n",
    "                    new_row = [(date, message)]\n",
    "                    df_new = pd.DataFrame(new_row, columns=[\"date\", \"message\"]) \n",
    "                    df_new.to_csv(file_path_stable, mode='a', index=False, header=False, encoding=\"utf-8\")\n",
    "                    df_stable = pd.read_csv(file_path_stable)\n",
    "                    res_id.append(id)\n",
    "        manager.shutdown()\n",
    "        return res_id\n"
   ]
  },
  {
   "cell_type": "code",
   "execution_count": 29,
   "metadata": {},
   "outputs": [
    {
     "name": "stdout",
     "output_type": "stream",
     "text": [
      "Дані завантажено успішно!\n"
     ]
    }
   ],
   "source": [
    "res_id = rm_dublicates(df_current , file_path_stable)"
   ]
  },
  {
   "cell_type": "code",
   "execution_count": 28,
   "metadata": {},
   "outputs": [
    {
     "data": {
      "text/plain": [
       "[10, 11, 12, 13]"
      ]
     },
     "execution_count": 28,
     "metadata": {},
     "output_type": "execute_result"
    }
   ],
   "source": [
    "res_id"
   ]
  }
 ],
 "metadata": {
  "kernelspec": {
   "display_name": "Python 3",
   "language": "python",
   "name": "python3"
  },
  "language_info": {
   "codemirror_mode": {
    "name": "ipython",
    "version": 3
   },
   "file_extension": ".py",
   "mimetype": "text/x-python",
   "name": "python",
   "nbconvert_exporter": "python",
   "pygments_lexer": "ipython3",
   "version": "3.10.16"
  }
 },
 "nbformat": 4,
 "nbformat_minor": 2
}

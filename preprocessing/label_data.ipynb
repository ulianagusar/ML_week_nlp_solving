{
 "cells": [
  {
   "cell_type": "code",
   "execution_count": null,
   "metadata": {},
   "outputs": [],
   "source": [
    "!pip install pandas\n",
    "import openai\n",
    "import pandas as pd\n",
    "from tqdm import tqdm\n",
    "import os\n",
    "from openai import OpenAI\n",
    "tqdm.pandas(desc=\"Processing messages\")"
   ]
  },
  {
   "cell_type": "code",
   "execution_count": null,
   "metadata": {},
   "outputs": [],
   "source": [
    "client = OpenAI(api_key = api_key)\n",
    "\n",
    "completion = client.chat.completions.create(\n",
    "    model=\"gpt-4o-mini\",\n",
    "    temperature=0.3, \n",
    "    messages=[\n",
    "        {\"role\": \"system\", \"content\": \"You are a system for labeling messages coming from Telegram channels on military topics. Your task is to determine whether these messages contain military expertise. This information will be used by the Ukrainian military, it is important to catch all messages that contain information that directly or potentially indicates a change in the course of Russia's operation against Ukraine.  If the message mentions the work of Russian air defense, shelling of any Russian territories by Ukraine, internal events in Russia or Ukraine, statements by politicians or public figures on general topics, score 0 points. For each coincidence of the message with the established rule, add a point: 1 Description of Russia's battles and operations in Ukraine, their causes and consequences . 2 Mention the use, availability or description of any equipment. 3 Destruction of Ukrainian positions 4 Summarize the information in the form of reports or training materials. 5 Information on planning operations, coordination and organization of troops for combat missions and exercises. 6 Adaptation and improvement of tactics and methods in combat conditions based on experience. 7 Information on personnel and civilians, as well as resources that strengthen Russia's defense capabilities. 8 Things taken by the Russians as trophies 9 Recording successes, failures, or outcomes of events Example : красивое кадры работы су34 вкс с подвешенными фаб500м62 с умпк по позициям противника в зоне проведения сво публикует, войска движутся на юг.  Score Calculation: +1 for Rule 1 and +1 for Rule 2 and +1 for Rule 5. Your Output:3 Output only the number, without any additional comments.\"} , \n",
    "        {\"role\": \"user\", \"content\": \"украину не будет смысла восстанавливать в случае ее поражения  так считает генсек нато что касается восстановления украины после войны то сначала нужно добиться чтобы она одержала верх если украина не одержит верх то будет нечего восстанавливать в свободной и независимой украине  заявил йенс столтенберг выступая на молодежном саммите нато  подписаться на izru\"} , \n",
    "    ]\n",
    ")\n"
   ]
  },
  {
   "cell_type": "code",
   "execution_count": 12,
   "metadata": {},
   "outputs": [],
   "source": [
    "system_prompt = \"\"\"You are a system for labeling messages coming from Telegram channels on military topics. \n",
    "Your task is to determine whether these messages contain military expertise. This information will be used \n",
    "by the Ukrainian military, it is important to catch all messages that contain information that directly or \n",
    "potentially indicates a change in the course of Russia's operation against Ukraine.  If the message mentions \n",
    "the work of Russian air defense, shelling of any Russian territories by Ukraine, internal events in Russia or \n",
    "Ukraine, statements by politicians or public figures on general topics, score 0 points. For each coincidence \n",
    "of the message with the established rule, add a point: \n",
    "1 Description of Russia's battles and operations in  Ukraine, their causes and consequences . \n",
    "2 Mention the use, availability or description of any equipment. \n",
    "3 Destruction of Ukrainian positions \n",
    "4 Summarize the information in the form of reports or training materials. \n",
    "5 Information on planning operations, coordination and organization of troops for combat missions and exercises. \n",
    "6 Adaptation and improvement of tactics and methods in combat conditions based on experience. \n",
    "7 Information on personnel and civilians, as well as resources that strengthen Russia's defense capabilities. \n",
    "8 Things taken by the Russians as trophies \n",
    "9 Recording successes, failures, or outcomes of events\n",
    "Example : красивое кадры работы су34 вкс с подвешенными фаб500м62 с умпк по позициям противника в зоне проведения\n",
    " сво публикует, войска движутся на юг.  Score Calculation: +1 for Rule 1 and +1 for Rule 2 and +1 for Rule 5. \n",
    " Your Output:3 Output only the number, without any additional comments.\"\"\""
   ]
  },
  {
   "cell_type": "code",
   "execution_count": 25,
   "metadata": {},
   "outputs": [],
   "source": [
    "def get_score(message):\n",
    "   # try:\n",
    "        client = OpenAI(api_key = api_key)\n",
    "\n",
    "        \n",
    "        response = client.chat.completions.create(\n",
    "            model=\"gpt-4o-mini\",\n",
    "            temperature=0, \n",
    "            messages=[\n",
    "                {\"role\": \"system\", \"content\": system_prompt} , \n",
    "                {\"role\": \"user\", \"content\": message} , \n",
    "            ]\n",
    "        )\n",
    "\n",
    "        score = response.choices[0].message.content\n",
    "\n",
    "        if score.isdigit():\n",
    "            return int(score)\n",
    "        else:\n",
    "            return None\n",
    "    # except Exception as e:\n",
    "    #     print(f\"Error processing message: {e}\")\n",
    "    #     return None"
   ]
  },
  {
   "cell_type": "code",
   "execution_count": 26,
   "metadata": {},
   "outputs": [
    {
     "data": {
      "text/plain": [
       "0"
      ]
     },
     "execution_count": 26,
     "metadata": {},
     "output_type": "execute_result"
    }
   ],
   "source": [
    "get_score(\"украину не будет смысла восстанавливать в случае ее поражения  так считает генсек нато что касается восстановления украины после войны то сначала нужно добиться чтобы она одержала верх если украина не одержит верх то будет нечего восстанавливать в свободной и независимой украине  заявил йенс столтенберг выступая на молодежном саммите нато  подписаться на izru\")"
   ]
  },
  {
   "cell_type": "code",
   "execution_count": 29,
   "metadata": {},
   "outputs": [],
   "source": [
    "df = pd.read_csv(\"/Users/ulanagusar/Desktop/ML_week/df_sheets.csv\")"
   ]
  },
  {
   "cell_type": "code",
   "execution_count": 33,
   "metadata": {},
   "outputs": [
    {
     "name": "stderr",
     "output_type": "stream",
     "text": [
      "Processing chunk 1: 100%|██████████| 1000/1000 [11:48<00:00,  1.41it/s]\n",
      "/var/folders/nq/srzxpdh14hlgl_4b4d260fm40000gn/T/ipykernel_23090/2613046083.py:27: SettingWithCopyWarning: \n",
      "A value is trying to be set on a copy of a slice from a DataFrame.\n",
      "Try using .loc[row_indexer,col_indexer] = value instead\n",
      "\n",
      "See the caveats in the documentation: https://pandas.pydata.org/pandas-docs/stable/user_guide/indexing.html#returning-a-view-versus-a-copy\n",
      "  chunk['score'] = chunk['clean_message'].progress_apply(get_score)\n",
      "Processing chunks:  12%|█▎        | 1/8 [11:48<1:22:42, 708.88s/it]"
     ]
    },
    {
     "name": "stdout",
     "output_type": "stream",
     "text": [
      "Chunk 1 saved to processed_chunks/dataset_with_scores_part1.csv\n"
     ]
    },
    {
     "name": "stderr",
     "output_type": "stream",
     "text": [
      "Processing chunk 2: 100%|██████████| 1000/1000 [12:31<00:00,  1.33it/s]\n",
      "/var/folders/nq/srzxpdh14hlgl_4b4d260fm40000gn/T/ipykernel_23090/2613046083.py:27: SettingWithCopyWarning: \n",
      "A value is trying to be set on a copy of a slice from a DataFrame.\n",
      "Try using .loc[row_indexer,col_indexer] = value instead\n",
      "\n",
      "See the caveats in the documentation: https://pandas.pydata.org/pandas-docs/stable/user_guide/indexing.html#returning-a-view-versus-a-copy\n",
      "  chunk['score'] = chunk['clean_message'].progress_apply(get_score)\n",
      "Processing chunks:  25%|██▌       | 2/8 [24:20<1:13:24, 734.14s/it]"
     ]
    },
    {
     "name": "stdout",
     "output_type": "stream",
     "text": [
      "Chunk 2 saved to processed_chunks/dataset_with_scores_part2.csv\n"
     ]
    },
    {
     "name": "stderr",
     "output_type": "stream",
     "text": [
      "Processing chunk 3: 100%|██████████| 1000/1000 [11:41<00:00,  1.43it/s]\n",
      "/var/folders/nq/srzxpdh14hlgl_4b4d260fm40000gn/T/ipykernel_23090/2613046083.py:27: SettingWithCopyWarning: \n",
      "A value is trying to be set on a copy of a slice from a DataFrame.\n",
      "Try using .loc[row_indexer,col_indexer] = value instead\n",
      "\n",
      "See the caveats in the documentation: https://pandas.pydata.org/pandas-docs/stable/user_guide/indexing.html#returning-a-view-versus-a-copy\n",
      "  chunk['score'] = chunk['clean_message'].progress_apply(get_score)\n",
      "Processing chunks:  38%|███▊      | 3/8 [36:02<59:56, 719.32s/it]  "
     ]
    },
    {
     "name": "stdout",
     "output_type": "stream",
     "text": [
      "Chunk 3 saved to processed_chunks/dataset_with_scores_part3.csv\n"
     ]
    },
    {
     "name": "stderr",
     "output_type": "stream",
     "text": [
      "Processing chunk 4: 100%|██████████| 1000/1000 [12:10<00:00,  1.37it/s]\n",
      "/var/folders/nq/srzxpdh14hlgl_4b4d260fm40000gn/T/ipykernel_23090/2613046083.py:27: SettingWithCopyWarning: \n",
      "A value is trying to be set on a copy of a slice from a DataFrame.\n",
      "Try using .loc[row_indexer,col_indexer] = value instead\n",
      "\n",
      "See the caveats in the documentation: https://pandas.pydata.org/pandas-docs/stable/user_guide/indexing.html#returning-a-view-versus-a-copy\n",
      "  chunk['score'] = chunk['clean_message'].progress_apply(get_score)\n",
      "Processing chunks:  50%|█████     | 4/8 [48:12<48:14, 723.63s/it]"
     ]
    },
    {
     "name": "stdout",
     "output_type": "stream",
     "text": [
      "Chunk 4 saved to processed_chunks/dataset_with_scores_part4.csv\n"
     ]
    },
    {
     "name": "stderr",
     "output_type": "stream",
     "text": [
      "Processing chunk 5: 100%|██████████| 1000/1000 [11:56<00:00,  1.40it/s]\n",
      "/var/folders/nq/srzxpdh14hlgl_4b4d260fm40000gn/T/ipykernel_23090/2613046083.py:27: SettingWithCopyWarning: \n",
      "A value is trying to be set on a copy of a slice from a DataFrame.\n",
      "Try using .loc[row_indexer,col_indexer] = value instead\n",
      "\n",
      "See the caveats in the documentation: https://pandas.pydata.org/pandas-docs/stable/user_guide/indexing.html#returning-a-view-versus-a-copy\n",
      "  chunk['score'] = chunk['clean_message'].progress_apply(get_score)\n",
      "Processing chunks:  62%|██████▎   | 5/8 [1:00:08<36:02, 720.96s/it]"
     ]
    },
    {
     "name": "stdout",
     "output_type": "stream",
     "text": [
      "Chunk 5 saved to processed_chunks/dataset_with_scores_part5.csv\n"
     ]
    },
    {
     "name": "stderr",
     "output_type": "stream",
     "text": [
      "Processing chunk 6: 100%|██████████| 1000/1000 [11:35<00:00,  1.44it/s]\n",
      "/var/folders/nq/srzxpdh14hlgl_4b4d260fm40000gn/T/ipykernel_23090/2613046083.py:27: SettingWithCopyWarning: \n",
      "A value is trying to be set on a copy of a slice from a DataFrame.\n",
      "Try using .loc[row_indexer,col_indexer] = value instead\n",
      "\n",
      "See the caveats in the documentation: https://pandas.pydata.org/pandas-docs/stable/user_guide/indexing.html#returning-a-view-versus-a-copy\n",
      "  chunk['score'] = chunk['clean_message'].progress_apply(get_score)\n",
      "Processing chunks:  75%|███████▌  | 6/8 [1:11:44<23:44, 712.32s/it]"
     ]
    },
    {
     "name": "stdout",
     "output_type": "stream",
     "text": [
      "Chunk 6 saved to processed_chunks/dataset_with_scores_part6.csv\n"
     ]
    },
    {
     "name": "stderr",
     "output_type": "stream",
     "text": [
      "Processing chunk 7: 100%|██████████| 1000/1000 [12:11<00:00,  1.37it/s]\n",
      "/var/folders/nq/srzxpdh14hlgl_4b4d260fm40000gn/T/ipykernel_23090/2613046083.py:27: SettingWithCopyWarning: \n",
      "A value is trying to be set on a copy of a slice from a DataFrame.\n",
      "Try using .loc[row_indexer,col_indexer] = value instead\n",
      "\n",
      "See the caveats in the documentation: https://pandas.pydata.org/pandas-docs/stable/user_guide/indexing.html#returning-a-view-versus-a-copy\n",
      "  chunk['score'] = chunk['clean_message'].progress_apply(get_score)\n",
      "Processing chunks:  88%|████████▊ | 7/8 [1:23:56<11:58, 718.73s/it]"
     ]
    },
    {
     "name": "stdout",
     "output_type": "stream",
     "text": [
      "Chunk 7 saved to processed_chunks/dataset_with_scores_part7.csv\n"
     ]
    },
    {
     "name": "stderr",
     "output_type": "stream",
     "text": [
      "Processing chunk 8: 100%|██████████| 484/484 [05:39<00:00,  1.42it/s]\n",
      "/var/folders/nq/srzxpdh14hlgl_4b4d260fm40000gn/T/ipykernel_23090/2613046083.py:27: SettingWithCopyWarning: \n",
      "A value is trying to be set on a copy of a slice from a DataFrame.\n",
      "Try using .loc[row_indexer,col_indexer] = value instead\n",
      "\n",
      "See the caveats in the documentation: https://pandas.pydata.org/pandas-docs/stable/user_guide/indexing.html#returning-a-view-versus-a-copy\n",
      "  chunk['score'] = chunk['clean_message'].progress_apply(get_score)\n",
      "Processing chunks: 100%|██████████| 8/8 [1:29:36<00:00, 672.05s/it]"
     ]
    },
    {
     "name": "stdout",
     "output_type": "stream",
     "text": [
      "Chunk 8 saved to processed_chunks/dataset_with_scores_part8.csv\n",
      "Всі частини оброблено та збережено.\n"
     ]
    },
    {
     "name": "stderr",
     "output_type": "stream",
     "text": [
      "\n"
     ]
    }
   ],
   "source": [
    "def split_dataframe(df, chunk_size):\n",
    "    chunks = []\n",
    "    num_chunks = len(df) // chunk_size + (1 if len(df) % chunk_size != 0 else 0)\n",
    "    for i in range(num_chunks):\n",
    "        chunk = df.iloc[i*chunk_size : (i+1)*chunk_size]\n",
    "        chunks.append(chunk)\n",
    "    return chunks\n",
    "\n",
    "\n",
    "chunk_size = 1000\n",
    "chunks = split_dataframe(df, chunk_size)\n",
    "\n",
    "\n",
    "output_dir = 'processed_chunks'\n",
    "os.makedirs(output_dir, exist_ok=True)\n",
    "\n",
    "\n",
    "for idx, chunk in enumerate(tqdm(chunks, desc=\"Processing chunks\")):\n",
    "\n",
    "    output_file = os.path.join(output_dir, f'dataset_with_scores_part{idx+1}.csv')\n",
    "    if os.path.exists(output_file):\n",
    "        print(f\"Chunk {idx+1} already processed. Skipping...\")\n",
    "        continue\n",
    "\n",
    "\n",
    "    tqdm.pandas(desc=f\"Processing chunk {idx+1}\")\n",
    "    chunk['score'] = chunk['clean_message'].progress_apply(get_score)\n",
    "\n",
    "\n",
    "    chunk.to_csv(output_file, index=False)\n",
    "    print(f\"Chunk {idx+1} saved to {output_file}\")\n",
    "\n",
    "print(\"Всі частини оброблено та збережено.\")"
   ]
  }
 ],
 "metadata": {
  "kernelspec": {
   "display_name": "course_create",
   "language": "python",
   "name": "python3"
  },
  "language_info": {
   "codemirror_mode": {
    "name": "ipython",
    "version": 3
   },
   "file_extension": ".py",
   "mimetype": "text/x-python",
   "name": "python",
   "nbconvert_exporter": "python",
   "pygments_lexer": "ipython3",
   "version": "3.12.1"
  }
 },
 "nbformat": 4,
 "nbformat_minor": 2
}

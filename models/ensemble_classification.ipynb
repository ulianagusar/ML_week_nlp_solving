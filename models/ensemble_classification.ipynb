{
  "nbformat": 4,
  "nbformat_minor": 0,
  "metadata": {
    "colab": {
      "provenance": []
    },
    "kernelspec": {
      "name": "python3",
      "display_name": "Python 3"
    },
    "language_info": {
      "name": "python"
    }
  },
  "cells": [
    {
      "cell_type": "code",
      "execution_count": 1,
      "metadata": {
        "colab": {
          "base_uri": "https://localhost:8080/"
        },
        "id": "1AGffrxU8Gyl",
        "outputId": "487f33f8-5723-44ec-d6f6-747b5d913040"
      },
      "outputs": [
        {
          "output_type": "stream",
          "name": "stdout",
          "text": [
            "Requirement already satisfied: transformers in /usr/local/lib/python3.11/dist-packages (4.47.1)\n",
            "Requirement already satisfied: filelock in /usr/local/lib/python3.11/dist-packages (from transformers) (3.17.0)\n",
            "Requirement already satisfied: huggingface-hub<1.0,>=0.24.0 in /usr/local/lib/python3.11/dist-packages (from transformers) (0.27.1)\n",
            "Requirement already satisfied: numpy>=1.17 in /usr/local/lib/python3.11/dist-packages (from transformers) (1.26.4)\n",
            "Requirement already satisfied: packaging>=20.0 in /usr/local/lib/python3.11/dist-packages (from transformers) (24.2)\n",
            "Requirement already satisfied: pyyaml>=5.1 in /usr/local/lib/python3.11/dist-packages (from transformers) (6.0.2)\n",
            "Requirement already satisfied: regex!=2019.12.17 in /usr/local/lib/python3.11/dist-packages (from transformers) (2024.11.6)\n",
            "Requirement already satisfied: requests in /usr/local/lib/python3.11/dist-packages (from transformers) (2.32.3)\n",
            "Requirement already satisfied: tokenizers<0.22,>=0.21 in /usr/local/lib/python3.11/dist-packages (from transformers) (0.21.0)\n",
            "Requirement already satisfied: safetensors>=0.4.1 in /usr/local/lib/python3.11/dist-packages (from transformers) (0.5.2)\n",
            "Requirement already satisfied: tqdm>=4.27 in /usr/local/lib/python3.11/dist-packages (from transformers) (4.67.1)\n",
            "Requirement already satisfied: fsspec>=2023.5.0 in /usr/local/lib/python3.11/dist-packages (from huggingface-hub<1.0,>=0.24.0->transformers) (2024.10.0)\n",
            "Requirement already satisfied: typing-extensions>=3.7.4.3 in /usr/local/lib/python3.11/dist-packages (from huggingface-hub<1.0,>=0.24.0->transformers) (4.12.2)\n",
            "Requirement already satisfied: charset-normalizer<4,>=2 in /usr/local/lib/python3.11/dist-packages (from requests->transformers) (3.4.1)\n",
            "Requirement already satisfied: idna<4,>=2.5 in /usr/local/lib/python3.11/dist-packages (from requests->transformers) (3.10)\n",
            "Requirement already satisfied: urllib3<3,>=1.21.1 in /usr/local/lib/python3.11/dist-packages (from requests->transformers) (2.3.0)\n",
            "Requirement already satisfied: certifi>=2017.4.17 in /usr/local/lib/python3.11/dist-packages (from requests->transformers) (2024.12.14)\n"
          ]
        }
      ],
      "source": [
        "!pip install transformers\n"
      ]
    },
    {
      "cell_type": "code",
      "source": [
        "import torch\n",
        "from transformers import AutoTokenizer, AutoModelForSequenceClassification\n",
        "import numpy as np\n",
        "\n",
        "def ensemble_classification(sentences, model_name_1, model_name_2):\n",
        "\n",
        "    tokenizer_1 = AutoTokenizer.from_pretrained(model_name_1)\n",
        "    model_1 = AutoModelForSequenceClassification.from_pretrained(model_name_1)\n",
        "\n",
        "    tokenizer_2 = AutoTokenizer.from_pretrained(model_name_2)\n",
        "    model_2 = AutoModelForSequenceClassification.from_pretrained(model_name_2)\n",
        "\n",
        "    final_labels = []\n",
        "\n",
        "\n",
        "    for text in sentences:\n",
        "\n",
        "        inputs_1 = tokenizer_1(text, return_tensors=\"pt\")\n",
        "        inputs_2 = tokenizer_2(text, return_tensors=\"pt\")\n",
        "\n",
        "\n",
        "        with torch.no_grad():\n",
        "            outputs_1 = model_1(**inputs_1)\n",
        "            probs_1 = torch.nn.functional.softmax(outputs_1.logits, dim=-1)\n",
        "\n",
        "\n",
        "        with torch.no_grad():\n",
        "            outputs_2 = model_2(**inputs_2)\n",
        "            probs_2 = torch.nn.functional.softmax(outputs_2.logits, dim=-1)\n",
        "\n",
        "\n",
        "        avg_probs = (probs_1 + probs_2) / 2\n",
        "\n",
        "\n",
        "        final_class = avg_probs.argmax().item()\n",
        "\n",
        "        final_labels.append(final_class)\n",
        "\n",
        "    return final_labels\n",
        "\n",
        "sentences = [\"новое оруже поступило на базу\", \"война в Украине\", \"новости обороны\"]\n",
        "model_name_1 = \"bodomerka/Milytary_exp_class_classification\"\n",
        "model_name_2 = \"bodomerka/Mil_class_exp_sber_balanssedclass\"\n",
        "\n",
        "labels = ensemble_classification(sentences, model_name_1, model_name_2)\n",
        "\n",
        "print(labels)\n"
      ],
      "metadata": {
        "colab": {
          "base_uri": "https://localhost:8080/"
        },
        "id": "nh-GZgG9AsIq",
        "outputId": "4774443f-aaf7-4a0e-f9a4-285e5933c299"
      },
      "execution_count": 18,
      "outputs": [
        {
          "output_type": "stream",
          "name": "stdout",
          "text": [
            "[1, 0, 0]\n"
          ]
        }
      ]
    }
  ]
}